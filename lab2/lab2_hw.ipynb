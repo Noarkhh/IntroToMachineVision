{
 "cells": [
  {
   "cell_type": "markdown",
   "source": [
    "# Zadanie domowe\n",
    "\n",
    "W przypadku obrazów w odcieniach szarości pojedynczy piksel z zakresu [0; 255] reprezentowany jest jako 8-bitowa liczba bez znaku.\n",
    "Pewnym rozszerzeniem analizy sposobu reprezentacji obrazu może być następujący eksperyment.\n",
    "Załóżmy, że z każdego z 8 bitów możemy stworzyć pojedynczy obraz binarny (ang. _bit-plane slicing_).\n",
    "Dla obrazka _100zloty.jpg_ (https://raw.githubusercontent.com/vision-agh/poc_sw/master/02_Point/100zloty.jpg) stwórz 8 obrazów, z których każdy powinien zawierać jedną płaszczyznę bitową.\n",
    "Podpowiedź $-$ warto sprawdzić, jak realizuje się bitowe operacje logiczne.\n",
    "Zastosowanie takiej dekompozycji obrazu pozwala na analizę ,,ważności'' poszczególnych bitów.\n",
    "Jest to użyteczne w kwantyzacji, ale także w kompresji.\n",
    "\n",
    "W drugim etapie zadania proszę spróbować odtworzyć obraz oryginalny z mniejszej liczby obrazów binarnych.\n",
    "Warto zacząć od dwóch najbardziej znaczących bitów, a później dodawać kolejne.\n",
    "Należy utworzyć co najmniej trzy wersje zrekonstruowanych obrazów.\n",
    "Podpowiedź $-$ rekonstrukcja obrazu to mnożenie przez odpowiednią potęgę liczby 2 (przesunięcie bitowe) oraz dodawanie."
   ],
   "metadata": {
    "collapsed": false,
    "id": "m5Q2hnDC3NuL"
   }
  },
  {
   "cell_type": "code",
   "source": [
    "import cv2\n",
    "import os\n",
    "import requests\n",
    "import matplotlib.pyplot as plt\n",
    "\n",
    "url = 'https://raw.githubusercontent.com/vision-agh/poc_sw/master/02_Point/'\n",
    "fileName = '100zloty.jpg'\n",
    "if not os.path.exists(fileName) :\n",
    "    r = requests.get(url + fileName, allow_redirects=True)\n",
    "    open(fileName, 'wb').write(r.content)"
   ],
   "metadata": {
    "id": "tsKtFztv4T2l"
   },
   "execution_count": null,
   "outputs": []
  },
  {
   "cell_type": "code",
   "execution_count": null,
   "outputs": [],
   "source": [
    "img = cv2.imread(\"100zloty.jpg\")\n",
    "img = cv2.cvtColor(img, cv2.COLOR_RGB2GRAY)"
   ],
   "metadata": {
    "collapsed": false
   }
  },
  {
   "cell_type": "code",
   "execution_count": null,
   "outputs": [],
   "source": [
    "plt.gray()\n",
    "plt.imshow(img)"
   ],
   "metadata": {
    "collapsed": false
   }
  },
  {
   "cell_type": "code",
   "execution_count": null,
   "outputs": [],
   "source": [
    "img2 = img & 0b10000000"
   ],
   "metadata": {
    "collapsed": false
   }
  },
  {
   "cell_type": "code",
   "execution_count": null,
   "outputs": [],
   "source": [
    "plt.gray()\n",
    "plt.imshow(img2)"
   ],
   "metadata": {
    "collapsed": false
   }
  },
  {
   "cell_type": "code",
   "execution_count": null,
   "outputs": [],
   "source": [
    "fig, axes = plt.subplots(4, 2, figsize=(10, 12))\n",
    "axes_flattened = [item for sublist in axes for item in sublist]\n",
    "\n",
    "mask = 0b10000000\n",
    "masked_images = []\n",
    "for i, ax in enumerate(axes_flattened):\n",
    "    img_masked = img & mask\n",
    "    masked_images.append(img_masked)\n",
    "    ax.imshow(img_masked)\n",
    "    ax.set_title(f\"masked with bit {i + 1}\")\n",
    "    mask //= 2"
   ],
   "metadata": {
    "collapsed": false
   }
  },
  {
   "cell_type": "code",
   "execution_count": null,
   "outputs": [],
   "source": [
    "fig, axes = plt.subplots(4, 2, figsize=(10, 12))\n",
    "axes_flattened = [item for sublist in axes for item in sublist]\n",
    "combined_image = masked_images[0]\n",
    "\n",
    "for i, (ax, image) in enumerate(zip(axes_flattened, masked_images)):\n",
    "    combined_image |= image\n",
    "    ax.imshow(combined_image)\n",
    "    ax.set_title(f\"combined with first {i + 1} bits\")\n"
   ],
   "metadata": {
    "collapsed": false
   }
  },
  {
   "cell_type": "code",
   "execution_count": null,
   "outputs": [],
   "source": [],
   "metadata": {
    "collapsed": false
   }
  }
 ],
 "metadata": {
  "kernelspec": {
   "display_name": "Python 3",
   "language": "python",
   "name": "python3"
  },
  "language_info": {
   "codemirror_mode": {
    "name": "ipython",
    "version": 2
   },
   "file_extension": ".py",
   "mimetype": "text/x-python",
   "name": "python",
   "nbconvert_exporter": "python",
   "pygments_lexer": "ipython2",
   "version": "2.7.6"
  },
  "colab": {
   "provenance": []
  }
 },
 "nbformat": 4,
 "nbformat_minor": 0
}
