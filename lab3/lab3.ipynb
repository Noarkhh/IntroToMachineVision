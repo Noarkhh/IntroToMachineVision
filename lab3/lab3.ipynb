{
 "cells": [
  {
   "cell_type": "markdown",
   "metadata": {
    "pycharm": {
     "name": "#%% md\n"
    },
    "id": "GyJVpdDDcDvQ"
   },
   "source": [
    "# Histogram obrazu. Wyrównywanie histogramu."
   ]
  },
  {
   "cell_type": "markdown",
   "source": [
    "## Cel ćwiczenia\n",
    "\n",
    "- Zapoznanie z pojęciem histogramu obrazu (w odcieniach szarości i kolorze).\n",
    "- Zapoznanie z metodami modyfikacji histogramu (rozciąganie, wyrównywanie, dopasowywanie)."
   ],
   "metadata": {
    "collapsed": false,
    "pycharm": {
     "name": "#%% md\n"
    },
    "id": "NLeSSymzcDvS"
   }
  },
  {
   "cell_type": "markdown",
   "source": [
    "## Histogram\n",
    "\n",
    "- Histogramem obrazu nazywamy wykres słupkowy zdefiniowany następującymi zależnościami:<br>\n",
    "\\begin{equation}\n",
    "h(i) = \\sum_{x=0}^{N-1} \\sum_{y=0}^{M-1} p(i,(x,y))\n",
    "\\end{equation}<br>\n",
    "gdzie:<br>\n",
    "\\begin{equation}\n",
    "p(i) =  \\left\\{\n",
    "  \\begin{array}{l l}\n",
    "    1 & \\quad \\text{gdy} f(x,y) = i\\\\\n",
    "    0 & \\quad \\text{gdy} f(x,y) \\ne i\n",
    "  \\end{array} \\right.\n",
    "\\end{equation}\n",
    "\n",
    "- Inaczej mówiąc, histogram zawiera informacje na temat tego ile pikseli o danym poziomie jasności występuje na obrazie (w przypadku obrazu w odcieniach szarości). Określa się to także rozkładem empirycznym cechy.\n",
    "\n",
    "- Często wykorzystuje się tzw. znormalizowaną postać histogramu  – wszystkie wartości $h(i)$ są dzielone przez liczbę pikseli na obrazie.\n",
    "Otrzymana w ten sposób wielkość to gęstość prawdopodobieństwa wystąpienia na obrazie pikseli o odcieniu $i$.\n",
    "\n",
    "- Histogram można zdefiniować również dla obrazów kolorowych.\n",
    "Otrzymujemy wtedy 3 histogramy – po jednym dla danej składowej: R,G,B (lub HSV, YCbCr, itp.) lub histogram trójwymiarowy.\n",
    "\n",
    "- Histogram jest bardzo użyteczny w przetwarzaniu i analizie obrazów.\n",
    "Wykorzystywany jest przy binaryzacji (szerzej na jednym z kolejnych laboratoriów) oraz do oceny jakości (dynamiki, kontrastu) obrazu.\n",
    "W idealnym przypadku wszystkie poziomy jasności w obrazie powinny być wykorzystane (i to najlepiej w miarę jednolicie)  – obrazowo mówiąc histogram powinien rozciągać się od 0  – 255 (obraz w skali szarości).\n",
    "\n",
    "- W przypadku gdy  wykorzystujemy jedynie fragment dostępnego zakresu (wąski histogram)  lub histogram nie jest jednolity (występują dominujące grupy pikseli) obraz ma dość słaby kontrast.\n",
    "Cechę tę można poprawić stosując tzw. rozciąganie albo wyrównywanie histogramu (ang. *histogram equalization*).</div>"
   ],
   "metadata": {
    "collapsed": false,
    "pycharm": {
     "name": "#%% md\n"
    },
    "id": "-vb7gT4WcDvT"
   }
  },
  {
   "cell_type": "markdown",
   "source": [
    "## Histogram dla obrazów w odcieniach szarości\n",
    "\n",
    "1. Zaimportuj potrzebne biblioteki: *OpenCV*, *pyplot* z *matplotlib* i *numpy*.\n",
    "        import cv2\n",
    "        from matplotlib import pyplot as plt\n",
    "        import numpy as np\n",
    "2. Wczytaj obrazy *lenaX.bmp* w skali szarości. *X* jest numerem wczytywanego obrazu (1 - 4).\n",
    "        I = cv2.imread('lenaX.bmp', cv2.IMREAD_GRAYSCALE)\n",
    "3. Oblicz histogram wczytanego obrazu wykorzystując funkcję `cv2.calcHist`.\n",
    "    - Pierwszym argumentem jest obraz, dla którego obliczony zostanie histogram.\n",
    "    Należy go przekazać w nawiasie kwadratowym.\n",
    "    - Drugim argumentem jest numer kanału, dla którego ma zostać obliczony histogram.\n",
    "    Również powinien być przekazany w nawiasie kwadratowym.\n",
    "    - Trzeci argument oznacza maskę, czyli obszar, dla którego ma zostać wyznaczony histogram.\n",
    "    Aby obliczyć dla całego obrazu należy przekazać *None*.\n",
    "    - Czwartym argumentem jest rozmiar histogramu (liczba przedziałów).\n",
    "    Argument powinien być w nawiasie kwadratowym. Dla pełnej skali należy przekazać wartość *256*.\n",
    "    - Ostatnim argumentem jest zakres wartości. Dla obrazów typu *uint8* powinien on wynosić *[0, 256]*.\n",
    "    - Funkcja zwraca obliczony histogram.\n",
    "4. Wyświetl wczytane obrazy i ich histogramy w jednym oknie. Użyj `plt.subplot()` w celu stworzenia siatki wykresów.\n",
    "        figLena, axsLena = plt.subplots(2, 4)\n",
    "Rozmiar utworzonego okna można zmienić wykorzystując instrukcję (uwaga w calach -  1 cal to 2.54cm):\n",
    "        figLena.set_size_inches(20, 10)\n",
    "Przykładowe wyświetlenie obrazu:\n",
    "        axsLena[0, 0].imshow(I1, 'gray', vmin=0, vmax=256)\n",
    "        axsLena[0, 0].axis('off')\n",
    "Przykładowe wyświetlenie histogramu:\n",
    "        axsLena[1, 0].plot(H1)\n",
    "        axsLena[1, 0].grid()\n",
    "5. Przeanalizuj (dokładnie) związek histogramu z jasnością i ostrością obrazu (tu rozumianą jako subiektywne odczucie)."
   ],
   "metadata": {
    "collapsed": false,
    "pycharm": {
     "name": "#%% md\n"
    },
    "id": "lFY1GGOecDvU"
   }
  },
  {
   "cell_type": "code",
   "execution_count": null,
   "metadata": {
    "pycharm": {
     "name": "#%% Zadanie 1 - wyświetlanie\n"
    },
    "id": "KweWeS_UcDvV"
   },
   "outputs": [],
   "source": [
    "import cv2\n",
    "import os\n",
    "import requests\n",
    "from matplotlib import pyplot as plt\n",
    "import numpy as np\n",
    "\n",
    "url = 'https://raw.githubusercontent.com/vision-agh/poc_sw/master/03_Histogram/'\n",
    "\n",
    "fileName = 'lena1.bmp'\n",
    "if not os.path.exists(fileName) :\n",
    "    r = requests.get(url + fileName, allow_redirects=True)\n",
    "    open(fileName, 'wb').write(r.content)\n",
    "\n",
    "fileName = 'lena2.bmp'\n",
    "if not os.path.exists(fileName) :\n",
    "    r = requests.get(url + fileName, allow_redirects=True)\n",
    "    open(fileName, 'wb').write(r.content)\n",
    "\n",
    "fileName = 'lena3.bmp'\n",
    "if not os.path.exists(fileName) :\n",
    "    r = requests.get(url + fileName, allow_redirects=True)\n",
    "    open(fileName, 'wb').write(r.content)\n",
    "\n",
    "fileName = 'lena4.bmp'\n",
    "if not os.path.exists(fileName) :\n",
    "    r = requests.get(url + fileName, allow_redirects=True)\n",
    "    open(fileName, 'wb').write(r.content)"
   ]
  },
  {
   "cell_type": "code",
   "execution_count": null,
   "outputs": [],
   "source": [
    "lena1 = cv2.imread('lena1.bmp', cv2.IMREAD_GRAYSCALE)\n",
    "lena2 = cv2.imread('lena2.bmp', cv2.IMREAD_GRAYSCALE)\n",
    "lena3 = cv2.imread('lena3.bmp', cv2.IMREAD_GRAYSCALE)\n",
    "lena4 = cv2.imread('lena4.bmp', cv2.IMREAD_GRAYSCALE)\n",
    "lenas = [lena1, lena2, lena3, lena4]"
   ],
   "metadata": {
    "collapsed": false
   }
  },
  {
   "cell_type": "code",
   "execution_count": null,
   "outputs": [],
   "source": [
    "def show_hists(images, show_cumsums=False, channel=0):\n",
    "    _fig, axs = plt.subplots(2, len(images), figsize=(len(images) * 4, 8))\n",
    "    for i, img in enumerate(images):\n",
    "        img_hist = cv2.calcHist([img], [channel], None, [256], [0, 256])\n",
    "        axs[0, i].imshow(img, 'gray', vmin=0, vmax=256)\n",
    "        axs[0, i].axis('off')\n",
    "        axs[1, i].plot(img_hist)\n",
    "        axs[1, i].grid()\n",
    "        if show_cumsums:\n",
    "            cumsum = img_hist.cumsum()\n",
    "            cumsum *= (max(img_hist) / max(cumsum))\n",
    "            axs[1, i].plot(cumsum)"
   ],
   "metadata": {
    "collapsed": false
   }
  },
  {
   "cell_type": "code",
   "execution_count": null,
   "outputs": [],
   "source": [
    "def show_channels(image):\n",
    "    _fig, axs = plt.subplots(2, 3, figsize=(12, 8))\n",
    "    for i in range(3):\n",
    "        img_hist = cv2.calcHist([image], [i], None, [256], [0, 256])\n",
    "        axs[0, i].imshow(image[:,:,i], vmin=0, vmax=256)\n",
    "        axs[0, i].axis('off')\n",
    "        axs[1, i].set_title(f\"channel {i}\")\n",
    "        axs[1, i].plot(img_hist)\n",
    "        axs[1, i].grid()"
   ],
   "metadata": {
    "collapsed": false
   }
  },
  {
   "cell_type": "code",
   "execution_count": null,
   "outputs": [],
   "source": [
    "show_hists(lenas)"
   ],
   "metadata": {
    "collapsed": false
   }
  },
  {
   "cell_type": "markdown",
   "source": [
    "    ## Rozciąganie histogramu\n",
    "\n",
    "Najprostszą metodą poprawienia jakości obrazu jest tzw. rozciągnięcie histogramu.\n",
    "Polega na przeskalowaniu wartości pikseli w obrazie tak, aby wykorzystać cały dostępny zakres [0-255] (oczywiście w przypadku obrazów w odcieniach szarości w reprezentacji 8-bitowej).\n",
    "\n",
    "1. Wczytaj obraz *hist1.bmp* w skali szarości.\n",
    "Oblicz i wyświetl histogram rozpatrywanego obrazu (na wspólnym rysunku z obrazem).\n",
    "Zwróć uwagę na ilość widocznych szczegółów.\n",
    "2. Rozciągnij histogram obrazu. W tym celu można wykorzystać funkcję `cv2.normalize`.\n",
    "    - Pierwszym argumentem funkcji jest obraz poddawany operacji.\n",
    "    - Drugim argumentem jest tablica do której zostanie wpisany wynik.\n",
    "    Należy ją najpierw zainicjalizować.\n",
    "    Najlepiej zrobić to funkcją `np.zeros`, której pierwszym argumentem jest rozmiar obrazu (`I.shape`), a drugim typ danych (`uint8`).\n",
    "    Można również przekazać `None`, a wynik przypisać do nowej zmiennej.\n",
    "    - Trzecim argumentem jest minimalna wartość po normalizacji.\n",
    "    - Czwartym argumentem jest wartość maksymalna po normalizacji.\n",
    "    - Ostatnim argumentem jest typ wykorzystanej normy (uogólnienie pojęcia długości wektora).\n",
    "    Należy wykorzystać normę `cv2.NORM_MINMAX`.\n",
    "3. Wyświetl obraz oryginalny, po wykonanej operacji oraz ich histogramy.\n",
    "4. Czy ilość \"widocznych\" szczegółów uległa zmianie?"
   ],
   "metadata": {
    "collapsed": false,
    "pycharm": {
     "name": "#%% md\n"
    },
    "id": "yvrZfMJZcDvV"
   }
  },
  {
   "cell_type": "code",
   "execution_count": null,
   "outputs": [],
   "source": [
    "fileName = 'hist1.bmp'\n",
    "if not os.path.exists(fileName) :\n",
    "    r = requests.get(url + fileName, allow_redirects=True)\n",
    "    open(fileName, 'wb').write(r.content)\n",
    "\n",
    "fileName = 'hist2.bmp'\n",
    "if not os.path.exists(fileName) :\n",
    "    r = requests.get(url + fileName, allow_redirects=True)\n",
    "    open(fileName, 'wb').write(r.content)\n",
    "\n",
    "fileName = 'hist3.bmp'\n",
    "if not os.path.exists(fileName) :\n",
    "    r = requests.get(url + fileName, allow_redirects=True)\n",
    "    open(fileName, 'wb').write(r.content)\n",
    "\n",
    "fileName = 'hist4.bmp'\n",
    "if not os.path.exists(fileName) :\n",
    "    r = requests.get(url + fileName, allow_redirects=True)\n",
    "    open(fileName, 'wb').write(r.content)"
   ],
   "metadata": {
    "pycharm": {
     "name": "#%% Zadanie 2 - rozciąganie\n"
    },
    "id": "9dmix38-cDvW"
   }
  },
  {
   "cell_type": "code",
   "execution_count": null,
   "outputs": [],
   "source": [
    "hists = [cv2.imread(f'hist{i}.bmp', cv2.IMREAD_GRAYSCALE) for i in range(1, 5)]"
   ],
   "metadata": {
    "collapsed": false
   }
  },
  {
   "cell_type": "code",
   "execution_count": null,
   "outputs": [],
   "source": [
    "show_hists(hists)"
   ],
   "metadata": {
    "collapsed": false
   }
  },
  {
   "cell_type": "code",
   "execution_count": null,
   "outputs": [],
   "source": [
    "hist1 = hists[0]\n",
    "hist1_hist = cv2.calcHist([hist1], [0], None, [256], [0, 256])\n",
    "\n",
    "normalized_hist1 = cv2.normalize(hist1, None, 0, 256, cv2.NORM_MINMAX)\n",
    "normalized_hist1_hist = cv2.calcHist([normalized_hist1], [0], None, [256], [0, 256])\n",
    "\n",
    "fig, ((ax1, ax2), (ax3, ax4)) = plt.subplots(2, 2, figsize=(10, 10))\n",
    "\n",
    "ax1.imshow(hist1, 'gray', vmin=0, vmax=256)\n",
    "ax1.axis(\"off\")\n",
    "ax3.plot(hist1_hist)\n",
    "ax3.grid()\n",
    "\n",
    "ax2.imshow(normalized_hist1, 'gray', vmin=0, vmax=256)\n",
    "ax2.axis(\"off\")\n",
    "ax4.plot(normalized_hist1_hist)\n",
    "ax4.grid()"
   ],
   "metadata": {
    "collapsed": false
   }
  },
  {
   "cell_type": "code",
   "execution_count": null,
   "outputs": [],
   "source": [
    "normalized_hists = []\n",
    "for hist in hists:\n",
    "    # dest = np.zeros(hist.shape, \"uint8\")\n",
    "    normalized_hist = cv2.normalize(hist, None, 0, 256, cv2.NORM_MINMAX)\n",
    "    normalized_hists.append(normalized_hist)"
   ],
   "metadata": {
    "collapsed": false
   }
  },
  {
   "cell_type": "code",
   "execution_count": null,
   "outputs": [],
   "source": [
    "show_hists(normalized_hists)"
   ],
   "metadata": {
    "collapsed": false
   }
  },
  {
   "cell_type": "markdown",
   "source": [
    "## Wyrównywanie histogramu\n",
    "\n",
    "<div style=\"text-align: justify\">\n",
    "Bardziej zaawansowaną metodą jest tzw. wyrównywanie histogramu (ang. *histogram equalization – HE*).\n",
    "Idea jest następująca: z punktu widzenia lepszego wykorzystania dostępnych poziomów jasności pożądane jest rozciągnięcie \"szczytów\" histogramu, a~skompresowanie \"dolin\" tak, aby taka sama liczba pikseli reprezentowana była przez każdy z dostępnych poziomów jasności (a przynjamniej przybliżona).\n",
    "Warto zwrócić uwagę, że takie przekształcenie powoduje częściową utratę informacji o szczegółach w obszarach \"dolin\".\n",
    "Inaczej mówiąc, dążymy do sytuacji, aby histogram był względnie jednostajny.\n",
    "Operacją, która pozwala wykonać wyrównywanie histogramu, jest przekształcenie LUT z funkcją przejścia w postaci histogramu skumulowanego danego obrazu.</div><br>\n",
    "\n",
    "<div style=\"text-align: justify\">\n",
    "Histogram skumulowany to funkcja obliczona na podstawie histogramu.\n",
    "Jej pierwszy element to liczba pikseli o odcieniu $0$.\n",
    "Kolejne wartości to liczba pikseli o odcieniach od $0$ do $n$.</div>\n",
    "\n",
    "\\begin{equation}\n",
    "C(n) = \\sum_{i=0}^{n} h(i)\n",
    "\\end{equation}\n",
    "\n",
    "<div style=\"text-align: justify\">\n",
    "Jeżeli histogram jest w postaci znormalizowanej (gęstość rozkładu prawdopodobieństwa) to histogram skumulowany stanowi dystrybuantę rozkładu prawdopodobieństwa.</div><br>\n",
    "\n",
    "1. Wyznacz histogram skumulowany dla obrazu *hist1.bmp*.\n",
    "W tym celu wykorzystaj metodę `cumsum` dla histogramu wczytanego obrazu.\n",
    "Nie przyjmuje ona żadnych argumentów, a zwraca skumulowane wartości tablicy, dla której została użyta.\n",
    "Histogram należy wyliczyć dla **obrazka wejściowego**, a nie dla wyniku rozciągania.\n",
    "2. Histogram skumulowany wyświetl razem z histogramem zwykłym na jednym wykresie (nie obok siebie).\n",
    "Na potrzeby wyświetlenia przeskaluj histogram skumulowany tak, by miał taką samą wartość maksymalną jak zwykły histogram.\n",
    "W tym celu wykorzystaj metodę `max`.\n",
    "3. Wyświetlenie kilku linii na jednym wykresie może być zrealizowane w następujący sposób:\n",
    "        figHistCum, axsHistCum = plt.subplots()\n",
    "\n",
    "        axsHistCum.plot(HHist)\n",
    "        axsHistCum.plot(CHistNorm)\n",
    "        axsHistCum.grid()\n",
    "4. Teraz zaimplementuj klasyczny algorytm wyrównywania histogramu.\n",
    "Wykorzystać należy obliczony histogram skumulowany.\n",
    "Należy go przeskalować w taki sposób aby na jego podstawie zrealizować przekształcenie LUT, czyli do zakresu 0 - 255.\n",
    "\n",
    ">Uwaga. Opisany algorytm wyrównywania histogramu jest wersją uproszczoną.\n",
    ">W wersji pełnej należy podczas skalowania tablicy przekodowań LUT pominąć elementy równe *0*.\n",
    ">\n",
    ">W tym celu należy wykorzystać funkcje `np.ma.masked_equal` i `np.ma.filled`.\n",
    ">Pierwsza służy do ukrywania elementów tablicy, natomiast druga zamienia ukryte elementy na podaną wartość.\n",
    ">W tym przypadku elementem ukrywanym i wpisywaną wartością byłoby *0*.\n",
    "\n",
    "5. Na kolejnym rysunku wyświetl obrazek po przekształceniu, jego histogram oraz histogram skumulowany.\n",
    "Co szczególnego można powiedzieć o jego histogramie i histogramie skumulowanym?\n",
    "6. W bibliotece *OpenCV* dostępna jest funkcja wykonująca wyrównywanie histogramu `cv2.equalizeHist`.\n",
    "Jej argumentem jest obraz, którego histogram zostanie wyrównany. Zwraca natomiast obraz wynikowy.\n",
    "Na kolejnym rysunku wyświetl wynik funkcji, jego histogram oraz histogram skumulowany.\n",
    "7. W wykorzystywanej bibliotece zaimplementowana jest również metoda adaptacyjnego wyrównywania histogramu algorytmem CLAHE (ang. *Contrast Limited Adaptive Histogram Equalization*}.\n",
    "   Kilka słów wyjaśnienia.\n",
    "   Wadą poznanej metody HE jest jej \"globalność\" rozumiana jako nieuwzględnianie lokalnych właściwości obrazu.\n",
    "   Dlatego też powstała metoda adaptacyjnego wyrównywania histogramu (AHE).\n",
    "   Jest ona spotykana w dwóch wariantach:\n",
    "   - dla każdego piksela niezależnie, w pewnym jego otoczeniu, wyznaczany jest histogram i przeprowadzane wyrównywanie.\n",
    "     Jak nietrudno się domyślić rozwiązanie jest dość kosztowne obliczeniowo.\n",
    "   - obraz wejściowy dzielony jest na nienachodzące na siebie prostokątne okna.\n",
    "     W każdym z okien obliczany jest histogram i przeprowadzane jest wyrównywanie.\n",
    "     W celu eliminacji błędów na granicy okien, stosuje się interpolację.\n",
    "\n",
    "   Metoda AHE ma jednak tą wadę, że w obszarach jednorodnych wzmacnia szum.\n",
    "   Dlatego też zaproponowano rozwiązanie CLAHE, które zakłada ograniczenie kontrastu (CL).\n",
    "   W metodzie definiuje się maksymalną wartość danego przedziału histogramu (próg ograniczenia kontrastu).\n",
    "   Piksele, które przekraczają próg są następnie równomiernie rozdzielane pomiędzy poszczególne przedziały.\n",
    "   Bardziej szczegółowy opis obu metod dostępny jest na [Wikipedii](https://en.wikipedia.org/wiki/Adaptive_histogram_equalization).\n",
    "\n",
    "8.W celu użycia algorytmu należy wywołać funkcję `cv2.createCLAHE`.\n",
    "    - Pierwszym parametrem jest próg ograniczenia kontrastu.\n",
    "    - Drugi parametr definiuje na ile prostokątów zostanie podzielony obraz w rzęch i kolumnach.\n",
    "    - Zwracany jest zainicjalizowany *smart pointer* do klasy `cv::CLAHE`.\n",
    "9. Aby wykonać wyrównywanie należy użyć metody `apply`.\n",
    "Jej argumentem jest obraz wejściowy. Zwracany jest obraz o zmodyfikowanym histogramie.\n",
    "10. Przetestuj różne parametry algorytmu CLAHE.\n",
    "11. W kolejnym etapie należy przetestować operacje (rozciąganie, wyrównywanie (HE) i adaptacyjne wyrównywanie CLAHE)  na histogramie dla obrazów rzeczywistych. *hist2.bmp*, *hist3.bmp*, *hist4.jpg*.\n",
    "W jednym oknie wyświetl: obraz oryginalny, rozciąganie, wyrównywanie HE oraz wyrównywanie CLAHE."
   ],
   "metadata": {
    "collapsed": false,
    "pycharm": {
     "name": "#%% md\n"
    },
    "id": "qQYQVoOEcDvW"
   }
  },
  {
   "cell_type": "code",
   "execution_count": null,
   "outputs": [],
   "source": [
    "show_hists(hists, show_cumsums=True)"
   ],
   "metadata": {
    "pycharm": {
     "name": "#%% Zadanie 3 - histogram skumulowany\n"
    },
    "id": "Hthp3Q0WcDvX"
   }
  },
  {
   "cell_type": "code",
   "execution_count": null,
   "outputs": [],
   "source": [
    "results = []\n",
    "for img in hists:\n",
    "    img_hist = cv2.calcHist([img], [0], None, [256], [0, 256])\n",
    "    cumsum = img_hist.cumsum()\n",
    "    cumsum *= (255 / max(cumsum))\n",
    "    img_equalized = cv2.LUT(img, cumsum)\n",
    "\n",
    "    results.append(img_equalized)"
   ],
   "metadata": {
    "pycharm": {
     "name": "#%% Zadanie 3 - wyrównywanie\n"
    },
    "id": "xxEuLreccDvY"
   }
  },
  {
   "cell_type": "code",
   "execution_count": null,
   "outputs": [],
   "source": [
    "show_hists(results, show_cumsums=True)"
   ],
   "metadata": {
    "pycharm": {
     "name": "#%% Zadanie 3 - wyrównywanie OpenCV\n"
    },
    "id": "EajsxfqncDvY"
   }
  },
  {
   "cell_type": "code",
   "execution_count": null,
   "outputs": [],
   "source": [
    "cv2_equalized = [cv2.equalizeHist(hist) for hist in hists]\n",
    "show_hists(cv2_equalized, show_cumsums=True)"
   ],
   "metadata": {
    "pycharm": {
     "name": "#%% Zadanie 3 - CLAHE\n"
    },
    "id": "xOEFxbVrcDvY"
   }
  },
  {
   "cell_type": "code",
   "execution_count": null,
   "outputs": [],
   "source": [
    "clahe_results = [cv2.createCLAHE().apply(img) for img in hists]\n",
    "show_hists(clahe_results, show_cumsums=True)"
   ],
   "metadata": {
    "collapsed": false
   }
  },
  {
   "cell_type": "markdown",
   "source": [
    "## Histogram dla obrazów kolorowych i jego wyrównywanie\n",
    "\n",
    "1. Wczytaj obraz *lenaRGB.bmp*.\n",
    "2. Wykonaj konwersję przestrzeni barw z BGR do RGB.\n",
    "3. Wyświetl wczytany obraz oraz histogram dla każdej składowej przestrzeni barw.\n",
    "W tym celu można użyć drugiego argumentu wykorzystywanej funkcji (numer kanału).\n",
    "4. Wykonaj wyrównywanie dla każdej składowej obrazu. Połącz otrzymane składowe w nowy obraz i wyświetl go.\n",
    "Jaka jest zasadnicza wada takiego podejścia?\n",
    "5. Przekształć obraz wejściowy do przestrzeni HSV (flaga `cv2.COLOR_BGR2HSV`).\n",
    "Wyświetl histogramy poszczególnych składowych.\n",
    "Manipulacji dokonujemy na składowej odpowiadającej za jasność, czyli V.\n",
    "Wykonaj wyrównywanie histogramu dla tej składowej.\n",
    "Dokonaj podmiany składowej V i wyświetl rezultat operacji.\n",
    "Uprzednio przeprowadź konwersję HSV->RGB (flaga `cv2.COLOR_HSV2RGB`).\n",
    "6. Wykonaj te same operacje dla obrazu *jezioro.jpg*."
   ],
   "metadata": {
    "collapsed": false,
    "pycharm": {
     "name": "#%% md\n"
    },
    "id": "C9WYAOJTcDvZ"
   }
  },
  {
   "cell_type": "code",
   "execution_count": null,
   "outputs": [],
   "source": [
    "fileName = 'lenaRGB.bmp'\n",
    "if not os.path.exists(fileName) :\n",
    "    r = requests.get(url + fileName, allow_redirects=True)\n",
    "    open(fileName, 'wb').write(r.content)\n",
    "\n",
    "fileName = 'jezioro.jpg'\n",
    "if not os.path.exists(fileName) :\n",
    "    r = requests.get(url + fileName, allow_redirects=True)\n",
    "    open(fileName, 'wb').write(r.content)"
   ],
   "metadata": {
    "pycharm": {
     "name": "#%% Zadanie 4 - histogram\n"
    },
    "id": "y5T31GV3cDvZ"
   }
  },
  {
   "cell_type": "code",
   "execution_count": null,
   "outputs": [],
   "source": [
    "lenaBGR = cv2.imread('lenaRGB.bmp')\n",
    "lenaRGB = cv2.cvtColor(lenaBGR, cv2.COLOR_BGR2RGB)\n",
    "jezioroBGR = cv2.imread('jezioro.jpg')\n",
    "jezioroRGB = cv2.cvtColor(jezioroBGR, cv2.COLOR_BGR2RGB)"
   ],
   "metadata": {
    "pycharm": {
     "name": "#%% Zadanie 4 - wyrównanie\n"
    },
    "id": "vzj4kEtOcDva"
   }
  },
  {
   "cell_type": "code",
   "execution_count": null,
   "outputs": [],
   "source": [
    "show_channels(lenaRGB)\n",
    "show_channels(jezioroRGB)"
   ],
   "metadata": {
    "collapsed": false
   }
  },
  {
   "cell_type": "code",
   "execution_count": null,
   "outputs": [],
   "source": [
    "def equalize_simple(imageRGB):\n",
    "    imageRGB_channels_equalized = [cv2.equalizeHist(imageRGB[:,:,i]) for i in range(3)]  \n",
    "    imageRGB_equalized = np.dstack(imageRGB_channels_equalized)\n",
    "    plt.imshow(imageRGB_equalized)\n",
    "    plt.show()"
   ],
   "metadata": {
    "pycharm": {
     "name": "#%% Zadanie 4 - HSV wyrównanie\n"
    },
    "id": "AGV4sG7TcDvb"
   }
  },
  {
   "cell_type": "code",
   "execution_count": null,
   "outputs": [],
   "source": [
    "def equalize_brightness(imageRGB):   \n",
    "    imageHSV = cv2.cvtColor(imageRGB, cv2.COLOR_RGB2HSV)\n",
    "    imageV = imageHSV[:,:,2]\n",
    "    imageV_Vchannel_equalized = cv2.equalizeHist(imageV)\n",
    "    imageV_equalized = np.dstack((imageHSV[:,:,0], imageHSV[:,:,1], imageV_Vchannel_equalized))\n",
    "    imageRGB_Vequalized = cv2.cvtColor(imageV_equalized, cv2.COLOR_HSV2RGB)\n",
    "    plt.imshow(imageRGB_Vequalized)\n",
    "    plt.show()"
   ],
   "metadata": {
    "collapsed": false
   }
  },
  {
   "cell_type": "code",
   "execution_count": null,
   "outputs": [],
   "source": [
    "equalize_simple(lenaRGB)\n",
    "equalize_brightness(lenaRGB)\n",
    "equalize_simple(jezioroRGB)\n",
    "equalize_brightness(jezioroRGB)"
   ],
   "metadata": {
    "collapsed": false
   }
  },
  {
   "cell_type": "code",
   "execution_count": null,
   "outputs": [],
   "source": [],
   "metadata": {
    "collapsed": false
   }
  }
 ],
 "metadata": {
  "kernelspec": {
   "display_name": "Python 3",
   "language": "python",
   "name": "python3"
  },
  "language_info": {
   "codemirror_mode": {
    "name": "ipython",
    "version": 3
   },
   "file_extension": ".py",
   "mimetype": "text/x-python",
   "name": "python",
   "nbconvert_exporter": "python",
   "pygments_lexer": "ipython3",
   "version": "3.8.3"
  },
  "colab": {
   "provenance": [],
   "collapsed_sections": []
  }
 },
 "nbformat": 4,
 "nbformat_minor": 0
}
