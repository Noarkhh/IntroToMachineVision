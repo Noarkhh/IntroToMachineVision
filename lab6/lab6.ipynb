{
 "cells": [
  {
   "cell_type": "markdown",
   "metadata": {
    "id": "PzvFXKTPuTVj"
   },
   "source": [
    "# Przetwarzanie wstępne. Filtracja kontekstowa.\n",
    "\n",
    "\n",
    "### Cel:\n",
    "- zapoznanie z pojęciem kontekstu / filtracji kontekstowej,\n",
    "- zapoznanie z pojęciem konwolucji (splotu),\n",
    "- zapoznanie z wybranymi filtrami:\n",
    "\t- filtry liniowe dolnoprzepustowe:\n",
    "\t\t- filtr uśredniający,\n",
    "\t\t- filtr Gaussa.\n",
    "\t- filtry nielinowe:\n",
    "\t\t- mediana,\n",
    "\t\t- mediana dla obrazów kolorowych.\n",
    "\t- filtry liniowe górnoprzepustowe:\n",
    "\t\t\t- laplasjan,\n",
    "\t\t\t- operator Robersta, Prewitta, Sobela.\n",
    "- zadanie domowe: adaptacyjna filtracja medianowa.\n",
    "\n",
    "### Filtry liniowe uśredniające (dolnoprzepustowe)\n",
    "\n",
    "Jest to podstawowa rodzina filtrów stosowana w cyfrowym przetwarzaniu obrazów. \n",
    "Wykorzystuje się je w celu \"rozmazania\" obrazu i tym samym redukcji szumów (zakłóceń) na obrazie.\n",
    "Filtr określony jest przez dwa parametry: rozmiar maski (ang. _kernel_) oraz wartości współczynników maski.\n",
    "\n",
    "Warto zwrócić uwagę, że omawiane w niniejszym rozdziale operacje generują nową wartość piksela na podstawie pewnego fragmentu obrazu (tj. kontekstu), a nie jak operacje punktowe tylko na podstawie jednego piksela.\n",
    "\n",
    "\n",
    "1. Wczytaj obraz _plansza.png_.\n",
    "W dalszej części ćwiczenia sprawdzenie działania filtracji dla innych obrazów sprowadzi się do wczytania innego pliku.\n",
    "\n",
    "2. Podstawowa funkcja to `cv2.filter2D`  - realizacja filtracji konwolucyjnej.\n",
    "   Proszę sprawdzić jej dokumentację i zwrócić uwagę na obsługę problemu brzegowego (na krawędziach istnieją piksele dla których nie da się wyznaczyć otoczenia).\n",
    "\n",
    "  Uwaga. Problem ten można też rozwiązać z użyciem funkcji `signal.convolve2d` z biblioteki _scipy_ (`from scipy import signal`).\n",
    "\n",
    "3. Stwórz podstawowy filtr uśredniający o rozmiarze $3 \\times 3$ -- za pomocą funkcji `np.ones`. Wykonaj konwolucję na wczytanym obrazie. Na wspólnym rysunku wyświetl obraz oryginalny, po filtracji oraz moduł z różnicy.\n",
    "\n",
    "4. Przeanalizuj otrzymane wyniki. Jakie elementy zawiera obraz \"moduł z różnicy\"? Co na tej podstawie można powiedzieć o filtracji dolnoprzepustowej?"
   ]
  },
  {
   "cell_type": "code",
   "execution_count": null,
   "metadata": {
    "ExecuteTime": {
     "end_time": "2024-01-03T00:36:54.909884Z",
     "start_time": "2024-01-03T00:36:54.503456Z"
    },
    "id": "S4Cq3WvAuTVm"
   },
   "outputs": [],
   "source": [
    "import cv2\n",
    "import os\n",
    "import requests\n",
    "from matplotlib import pyplot as plt\n",
    "import numpy as np\n",
    "from scipy import signal\n",
    "\n",
    "url = 'https://raw.githubusercontent.com/vision-agh/poc_sw/master/06_Context/'\n",
    "\n",
    "fileNames = [\"jet.png\", \"kw.png\", \"moon.png\", \"lenaSzum.png\", \"lena.png\", \"plansza.png\"]\n",
    "for fileName in fileNames:\n",
    "  if not os.path.exists(fileName):\n",
    "      r = requests.get(url + fileName, allow_redirects=True)\n",
    "      open(fileName, 'wb').write(r.content)\n",
    "\n",
    "jet = cv2.imread(\"jet.png\", cv2.IMREAD_GRAYSCALE)\n",
    "kw = cv2.imread(\"kw.png\", cv2.IMREAD_GRAYSCALE)\n",
    "moon = cv2.imread(\"moon.png\", cv2.IMREAD_GRAYSCALE)\n",
    "lena_noise = cv2.imread(\"lenaSzum.png\", cv2.IMREAD_GRAYSCALE)\n",
    "lena = cv2.imread(\"lena.png\", cv2.IMREAD_GRAYSCALE)\n",
    "board = cv2.imread(\"plansza.png\", cv2.IMREAD_GRAYSCALE)\n"
   ]
  },
  {
   "cell_type": "markdown",
   "metadata": {
    "id": "10zj2sOTuTVo"
   },
   "source": [
    "5. Na wspólnym rysunku wyświetl wyniki filtracji uśredniającej z oknem o rozmiarze 3, 5, 9, 15 i 35. \n",
    "Wykorzystaj polecenie `plt.subplot`. \n",
    "Przeanalizuj wpływ rozmiaru maski na wynik. "
   ]
  },
  {
   "cell_type": "code",
   "execution_count": null,
   "metadata": {
    "ExecuteTime": {
     "end_time": "2024-01-03T00:36:54.924888Z",
     "start_time": "2024-01-03T00:36:54.527293Z"
    },
    "id": "Cmf-hkCruTVo"
   },
   "outputs": [],
   "source": [
    "def show_image(image, title=None):\n",
    "    plt.axis(\"off\")\n",
    "    if title is not None:\n",
    "        plt.title(title)\n",
    "    plt.imshow(image, 'gray')\n",
    "    plt.show()"
   ]
  },
  {
   "cell_type": "code",
   "execution_count": null,
   "metadata": {
    "ExecuteTime": {
     "end_time": "2024-01-03T01:01:00.798110Z",
     "start_time": "2024-01-03T01:01:00.779232Z"
    },
    "collapsed": false,
    "jupyter": {
     "outputs_hidden": false
    }
   },
   "outputs": [],
   "source": [
    "def convolve_and_show_image(image, kernel, title=None, normalization=lambda x: x):\n",
    "    _fig, (ax1, ax2, ax3) = plt.subplots(1, 3, figsize=(15, 5))\n",
    "    convolved_image = normalization(cv2.filter2D(image, -1, kernel))\n",
    "    ax1.axis(\"off\")\n",
    "    ax2.axis(\"off\")\n",
    "    ax3.axis(\"off\")\n",
    "    ax1.imshow(image, 'gray')\n",
    "    ax2.imshow(convolved_image, 'gray')\n",
    "    ax3.imshow(np.abs(image - convolved_image), 'gray')\n",
    "    if title is not None:\n",
    "        plt.title(title)\n",
    "    plt.show()"
   ]
  },
  {
   "cell_type": "code",
   "execution_count": null,
   "metadata": {
    "ExecuteTime": {
     "end_time": "2024-01-03T00:59:32.521758Z",
     "start_time": "2024-01-03T00:59:32.370762Z"
    },
    "collapsed": false,
    "jupyter": {
     "outputs_hidden": false
    }
   },
   "outputs": [],
   "source": [
    "def show_convolved_image(image, convolved_image, title=None):\n",
    "    _fig, (ax1, ax2, ax3) = plt.subplots(1, 3, figsize=(15, 5))\n",
    "    ax1.axis(\"off\")\n",
    "    ax2.axis(\"off\")\n",
    "    ax3.axis(\"off\")\n",
    "    ax1.imshow(image, 'gray')\n",
    "    ax2.imshow(convolved_image, 'gray')\n",
    "    ax3.imshow(np.abs(image - convolved_image), 'gray')\n",
    "    if title is not None:\n",
    "        plt.title(title)\n",
    "    plt.show()"
   ]
  },
  {
   "cell_type": "code",
   "execution_count": null,
   "metadata": {
    "ExecuteTime": {
     "end_time": "2024-01-03T00:36:55.107222Z",
     "start_time": "2024-01-03T00:36:54.551779Z"
    },
    "collapsed": false,
    "jupyter": {
     "outputs_hidden": false
    }
   },
   "outputs": [],
   "source": [
    "ones_kernel = np.ones((3, 3)) / np.square(3)\n",
    "convolve_and_show_image(board, ones_kernel)"
   ]
  },
  {
   "cell_type": "code",
   "execution_count": null,
   "metadata": {
    "ExecuteTime": {
     "end_time": "2024-01-03T00:36:56.536559Z",
     "start_time": "2024-01-03T00:36:54.752731Z"
    },
    "collapsed": false,
    "jupyter": {
     "outputs_hidden": false
    }
   },
   "outputs": [],
   "source": [
    "for size in (3, 5, 9, 15, 35):\n",
    "    ones_kernel = np.ones((size, size)) / np.square(size)\n",
    "    convolve_and_show_image(board, ones_kernel)"
   ]
  },
  {
   "cell_type": "markdown",
   "metadata": {
    "ExecuteTime": {
     "end_time": "2023-12-20T09:11:15.480456Z",
     "start_time": "2023-12-20T09:11:15.477467Z"
    },
    "id": "zHlUB4tZuTVo"
   },
   "source": [
    "6. Wczytaj obraz _lena.png_.\n",
    "Zaobserwuj efekty filtracji dolnoprzepustowej dla obrazu rzeczywistego."
   ]
  },
  {
   "cell_type": "code",
   "execution_count": null,
   "metadata": {
    "ExecuteTime": {
     "end_time": "2024-01-03T00:36:58.771882Z",
     "start_time": "2024-01-03T00:36:56.481194Z"
    },
    "id": "Ed9hL_iWuTVp"
   },
   "outputs": [],
   "source": [
    "for size in (3, 5, 9, 15, 35):\n",
    "    ones_kernel = np.ones((size, size)) / np.square(size)\n",
    "    convolve_and_show_image(lena, ones_kernel)"
   ]
  },
  {
   "cell_type": "markdown",
   "metadata": {
    "id": "t-2FnMuvuTVp"
   },
   "source": [
    "7. Niekorzystny efekt towarzyszący wykonanym filtracjom dolnoprzepustowym to utrata ostrości. \n",
    "Częściowo można go zniwelować poprzez odpowiedni dobór maski. \n",
    "Wykorzystaj maskę:  `M = np.array([1 2 1; 2 4 2; 1 2 1])`. \n",
    "Przed obliczeniami należy jeszcze wykonać normalizację - podzielić każdy element maski przez sumę wszystkich elementów: `M = M/sum(sum(M));`.\n",
    "Tak przygotowaną maskę wykorzystaj w konwolucji - wyświetl wyniki tak jak wcześniej.\n",
    "Możliwe jest też wykorzystywanie innych masek - współczynniki można dopasowywać do konkretnego problemu."
   ]
  },
  {
   "cell_type": "code",
   "execution_count": null,
   "metadata": {
    "ExecuteTime": {
     "end_time": "2024-01-03T00:36:59.221451Z",
     "start_time": "2024-01-03T00:36:58.726730Z"
    },
    "id": "9-wJsEWcuTVp"
   },
   "outputs": [],
   "source": [
    "kernel = np.array([[1, 2, 1], [2, 4, 2], [1, 2, 1]], dtype='float64')\n",
    "kernel /= np.sum(kernel)\n",
    "convolve_and_show_image(lena, kernel)"
   ]
  },
  {
   "cell_type": "markdown",
   "metadata": {
    "id": "ybfc6TZCuTVq"
   },
   "source": [
    "8. Skuteczną i często wykorzystywaną maską jest tzw. maska Gasussa.\n",
    "Jest to zbiór liczb, które aproksymują dwuwymiarowy rozkład Gaussa. \n",
    "Parametrem jest odchylenie standardowe i rozmiar maski.\n",
    "\n",
    "9. Wykorzystując przygotowaną funkcję `fgaussian` stwórz maskę o rozmiarze $5 \\times 5$ i odchyleniu standardowym 0.5.\n",
    "  Wykorzystując funkcję `mesh` zwizualizuj filtr.\n",
    "  Sprawdź jak parametr ``odchylenie standardowe'' wpływa na ``kształt'' filtru.\n",
    "\n",
    "  Uwaga. W OpenCV dostępna jest *dedykowana* funkcja do filtracji Gaussa - `GaussianBlur`.\n",
    "  Proszę na jednym przykładzie porównać jej działanie z użytym wyżej rozwiązaniem.\n",
    "\n",
    "10. Wykonaj filtrację dla wybranych (2--3) wartości odchylenia standardowego.\n"
   ]
  },
  {
   "cell_type": "code",
   "execution_count": null,
   "metadata": {
    "ExecuteTime": {
     "end_time": "2024-01-03T00:36:59.221896Z",
     "start_time": "2024-01-03T00:36:59.120679Z"
    },
    "id": "ZUTDX8IluTVq",
    "scrolled": true
   },
   "outputs": [],
   "source": [
    "def fgaussian(size, sigma):\n",
    "     m = n = size\n",
    "     h, k = m//2, n//2\n",
    "     x, y = np.mgrid[-h:h+1, -k:k+1]\n",
    "     g = np.exp(-(x**2 + y**2)/(2*sigma**2))\n",
    "     return g /g.sum() \n",
    "    \n",
    "    \n",
    "def mesh(fun, size):\n",
    "    ax = plt.axes(projection='3d')\n",
    "    \n",
    "    X = np.arange(-size//2, size//2, 1)\n",
    "    Y = np.arange(-size//2, size//2, 1)\n",
    "    X, Y = np.meshgrid(X, Y)\n",
    "    Z = fun\n",
    "    \n",
    "    ax.plot_surface(X, Y, Z)\n",
    "    \n",
    "    plt.show()"
   ]
  },
  {
   "cell_type": "code",
   "execution_count": null,
   "metadata": {
    "ExecuteTime": {
     "end_time": "2024-01-03T00:36:59.361962Z",
     "start_time": "2024-01-03T00:36:59.121734Z"
    },
    "collapsed": false,
    "jupyter": {
     "outputs_hidden": false
    }
   },
   "outputs": [],
   "source": [
    "mesh(fgaussian(5, 0.5), 5)\n",
    "# show_convolved_image2(lena, cv2)"
   ]
  },
  {
   "cell_type": "code",
   "execution_count": null,
   "metadata": {
    "ExecuteTime": {
     "end_time": "2024-01-03T00:37:00.277Z",
     "start_time": "2024-01-03T00:36:59.273632Z"
    },
    "collapsed": false,
    "jupyter": {
     "outputs_hidden": false
    }
   },
   "outputs": [],
   "source": [
    "convolve_and_show_image(lena, fgaussian(5, 0.5))\n",
    "show_convolved_image(lena, cv2.GaussianBlur(lena, (5, 5), 0.5))"
   ]
  },
  {
   "cell_type": "markdown",
   "metadata": {
    "id": "bkN2AOHruTVr"
   },
   "source": [
    "### Filtry nieliniowe -- mediana\n",
    "\n",
    "Filtry rozmywające redukują szum, ale niekorzystnie wpływają na ostrość obrazu.\n",
    "Dlatego często wykorzystuje się filtry nieliniowe - np. filtr medianowy (dla przypomnienia: mediana - środkowa wartość w posortowanym ciągu liczb).\n",
    "\n",
    "Podstawowa różnica pomiędzy filtrami liniowymi, a nieliniowymi polega na tym, że przy filtracji liniowej na nową wartość piksela ma wpływ wartość wszystkich pikseli z otoczenia (np. uśrednianie, czasem ważone), natomiast w przypadku filtracji nieliniowej jako nowy piksel wybierana jest któraś z wartości otoczenia - według jakiegoś wskaźnika (wartość największa, najmniejsza czy właśnie mediana).\n",
    "\n",
    "\n",
    "1. Wczytaj obraz _lenaSzum.png_ (losowe 10% pikseli białych lub czarnych - tzw. zakłócenia impulsowe). Przeprowadź filtrację uśredniającą z rozmiarem maski 3x3. Wyświetl, podobnie jak wcześniej, oryginał, wynik filtracji i moduł z różnicy. Wykorzystując funkcję ``cv2.medianBlur` wykonaj filtrację medianową _lenaSzum.png_ (z rozmiarem maski $3 \\times 3$). Wyświetl, podobnie jak wcześniej, oryginał, wynik filtracji i moduł z różnicy. Która filtracja lepiej radzi sobie z tego typu szumem?\n",
    "\n",
    "  Uwaga. Taki sam efekt da również użycie funkcji `signal.medfilt2d`.\n"
   ]
  },
  {
   "cell_type": "code",
   "execution_count": null,
   "metadata": {
    "ExecuteTime": {
     "end_time": "2024-01-03T00:37:01.023211Z",
     "start_time": "2024-01-03T00:37:00.116656Z"
    },
    "id": "_ICkvyp3uTVr"
   },
   "outputs": [],
   "source": [
    "convolve_and_show_image(lena_noise, np.ones((3, 3)) / 9)\n",
    "show_convolved_image(lena_noise, cv2.medianBlur(lena_noise, 3))"
   ]
  },
  {
   "cell_type": "markdown",
   "metadata": {
    "id": "iSdorMgxuTVr"
   },
   "source": [
    "2. Przeprowadź filtrację uśredniającą, a następnie medianową obrazu _lena.png_.\n",
    "   Wyniki porównaj - dla obu wyświetl: oryginał, wynik filtracji i moduł z różnicy.\n",
    "   Szczególną uwagę zwróć na ostrość i krawędzie.\n",
    "   W której filtracji krawędzie zostają lepiej zachowane?"
   ]
  },
  {
   "cell_type": "code",
   "execution_count": null,
   "metadata": {
    "ExecuteTime": {
     "end_time": "2024-01-03T00:38:02.702707Z",
     "start_time": "2024-01-03T00:38:01.788084Z"
    },
    "id": "_g2nnTPruTVs"
   },
   "outputs": [],
   "source": [
    "convolve_and_show_image(lena, np.ones((3, 3)) / 9)\n",
    "show_convolved_image(lena, cv2.medianBlur(lena, 3))"
   ]
  },
  {
   "cell_type": "markdown",
   "metadata": {
    "id": "OOMWoBCJuTVs"
   },
   "source": [
    "3. Ciekawy efekt można uzyskać wykonując filtrację medianową wielokrotnie. Określa się go mianem  posteryzacji.  W wyniku przetwarzania z obrazka usunięte zostają detale, a duże obszary uzyskują tą samą wartość jasności.  Wykonaj operację mediany $5 \\times 5$ na obrazie _lena.png_ 10-krotnie. (wykorzystaj np. pętlę `for`).\n",
    "\n",
    "\n",
    "Inne filtry nieliniowe:\n",
    "- filtr modowy - moda (dominanta) zamiast mediany,\n",
    "- filtr olimpijski - średnia z podzbioru otoczenia (bez wartości ekstremalnych),\n",
    "- hybrydowy filtr medianowy - mediana obliczana osobno w różnych podzbiorach otoczenia (np. kształt ``x'',``+''), a jako wynik brana jest mediana ze zbioru wartość elementu centralnego, mediana z ``x'' i mediana z ``+'',\n",
    "- filtr minimalny i maksymalny (będą omówione przy okazji operacji morfologicznych w dalszej części kursu).\n",
    "\n",
    "\n",
    "Warto zdawać sobie sprawę, z szerokich możliwości dopasowywania rodzaju filtracji do konkretnego rozważanego problemu i rodzaju zaszumienia występującego na obrazie."
   ]
  },
  {
   "cell_type": "code",
   "execution_count": null,
   "metadata": {
    "ExecuteTime": {
     "end_time": "2024-01-03T00:39:48.523730Z",
     "start_time": "2024-01-03T00:39:47.969294Z"
    },
    "id": "KSFMyFBluTVt"
   },
   "outputs": [],
   "source": [
    "lena_convolved = lena\n",
    "for _ in range(10):\n",
    "    lena_convolved = cv2.medianBlur(lena_convolved, 5)\n",
    "show_convolved_image(lena, lena_convolved)"
   ]
  },
  {
   "cell_type": "markdown",
   "metadata": {
    "id": "qPKUMojBuTVt"
   },
   "source": [
    "## Filtry liniowe górnoprzepustowe (wyostrzające, wykrywające krawędzie)\n",
    "\n",
    "Zadaniem filtrów górnoprzepustowych jest wydobywanie z obrazu składników odpowiedzialnych za szybkie zmiany jasności - konturów, krawędzi, drobnych elementów tekstury.\n",
    "\n",
    "### Laplasjan (wykorzystanie drugiej pochodnej obrazu)\n",
    "\n",
    "1. Wczytaj obraz _moon.png_.\n",
    "\n",
    "2. Wprowadź podstawową maskę laplasjanu:\n",
    "\\begin{equation}\n",
    "M = \n",
    "\\begin{bmatrix}\n",
    "0 & 1& 0 \\\\ 1 & -4 & 1 \\\\ 0 & 1 & 0\n",
    "\\end{bmatrix}\n",
    "\\end{equation}\n",
    "\n",
    "3. Przed rozpoczęciem obliczeń należy dokonać normalizacji maski - dla rozmiaru $3 \\times 3$ podzielić każdy element przez 9.\n",
    "   Proszę zwrócić uwagę, że nie można tu zastosować takiej samej normalizacji, jak dla filtrów dolnoprzepustowanych, gdyż skutkowałby to dzieleniem przez 0.\n",
    "\n",
    "4. Wykonaj konwolucję obrazu z maską (`c2.filter2D`). Przed wyświetleniem, wynikowy obraz należy poddać normalizacji (występują ujemne wartości). Najczęściej wykonuje się jedną z dwóch operacji:\n",
    "- skalowanie (np. poprzez dodatnie 128 do każdego z pikseli),\n",
    "- moduł (wartość bezwzględna).\n",
    "\n",
    "Wykonaj obie normalizacje. \n",
    "Na wspólnym wykresie wyświetl obraz oryginalny oraz przefiltrowany po obu normalizacjach. "
   ]
  },
  {
   "cell_type": "code",
   "execution_count": null,
   "metadata": {
    "ExecuteTime": {
     "end_time": "2024-01-03T00:54:59.170686Z",
     "start_time": "2024-01-03T00:54:57.863219Z"
    },
    "id": "iDE-NzUzuTVt"
   },
   "outputs": [],
   "source": [
    "laplacian_kernel = np.array([\n",
    "    [0, 1, 0], \n",
    "    [1, -4, 1], \n",
    "    [0, 1, 0]\n",
    "]) / 9\n",
    "\n",
    "convolved = cv2.filter2D(moon, -1, laplacian_kernel)\n",
    "\n",
    "show_convolved_image(moon, convolved + 128)\n",
    "show_convolved_image(moon, np.abs(convolved))"
   ]
  },
  {
   "cell_type": "markdown",
   "metadata": {
    "id": "jNAsSrd-uTVu"
   },
   "source": [
    "7. Efekt wyostrzenia uzyskuje się po odjęciu/dodaniu (zależy do maski) rezultatu filtracji laplasjanowej i oryginalnego obrazu. Wyświetl na jednym wykresie: obraz oryginalny, sumę oryginału i wyniku filtracji oraz różnicę (bezwzględną) oryginału i wyniku filtracji.\n",
    " Uwaga. Aby uniknąć artefaktów, należy obraz wejściowy przekonwertować do formatu ze znakiem.\n",
    "\n"
   ]
  },
  {
   "cell_type": "code",
   "execution_count": null,
   "metadata": {
    "ExecuteTime": {
     "end_time": "2024-01-03T00:56:15.287296Z",
     "start_time": "2024-01-03T00:56:14.067892Z"
    },
    "id": "q2-IHdLjuTVu"
   },
   "outputs": [],
   "source": [
    "sharpening_result = np.abs(cv2.filter2D(moon, -1, laplacian_kernel))\n",
    "show_convolved_image(moon, moon.astype(np.int32) + sharpening_result)\n",
    "show_convolved_image(moon, np.abs(moon.astype(np.int32) - sharpening_result))\n",
    "show_image(moon.astype(np.int32) + sharpening_result)\n",
    "show_image(moon.astype(np.int32) - sharpening_result)"
   ]
  },
  {
   "cell_type": "markdown",
   "metadata": {
    "id": "s7UEkpUFuTVu"
   },
   "source": [
    "### Gradienty (wykorzystanie pierwszej pochodnej obrazu)\n",
    "\n",
    "1. Wczytaj obraz _kw.png_. Stwórz odpowiednie maski opisane w kolejnych punktach i dokonaj filtracji.\n",
    "2. Wykorzystując gradient Robertsa przeprowadź detekcję krawędzi - poprzez wykonanie konwolucji obrazu z daną maską:\n",
    "\\begin{equation}\n",
    "R1 = \\begin{bmatrix} 0 & 0 & 0 \\\\ -1 & 0 & 0 \\\\ 0 & 1 & 0 \\end{bmatrix}   \n",
    "R2 = \\begin{bmatrix} 0 & 0 & 0 \\\\ 0 & 0 & -1 \\\\ 0 & 1 & 0 \\end{bmatrix}\n",
    "\\end{equation}\n",
    "\n",
    "Wykorzystaj stworzony wcześniej kod (przy laplasjanie) - dwie metody normalizacji oraz sposób wyświetlania.\n",
    "\n",
    "3. Analogicznie przeprowadź detekcję krawędzi za pomocą gradientu Prewitta (pionowy i poziomy)\n",
    "\\begin{equation}\n",
    "P1 = \\begin{bmatrix} -1 & 0 & 1 \\\\ -1 & 0 & 1 \\\\ -1 & 0 & 1 \\end{bmatrix}   \n",
    "P2 = \\begin{bmatrix} -1 & -1 & -1 \\\\ 0 & 0 & 0 \\\\ 1 & 1 & 1 \\end{bmatrix}\n",
    "\\end{equation}\n",
    "\n",
    "4. Podobnie skonstruowany jest gradient Sobela (występuje osiem masek, zaprezentowane są dwie ``prostopadłe''):\n",
    "\\begin{equation}\n",
    "S1 = \\begin{bmatrix} -1 & 0 & 1 \\\\ -2 & 0 & 2 \\\\ -1 & 0 & 1 \\end{bmatrix}   \n",
    "S2 = \\begin{bmatrix} -1 & -2 & -1 \\\\ 0 & 0 & 0 \\\\ 1 & 2 & 1 \\end{bmatrix}\n",
    "\\end{equation}\n",
    "\n",
    "Przeprowadź detekcję krawędzi za pomocą gradientu Sobela. "
   ]
  },
  {
   "cell_type": "code",
   "execution_count": null,
   "metadata": {
    "ExecuteTime": {
     "end_time": "2024-01-03T00:56:33.918542Z",
     "start_time": "2024-01-03T00:56:33.790225Z"
    },
    "id": "BhwEYhsZuTVv",
    "scrolled": true
   },
   "outputs": [],
   "source": [
    "R1 = np.array([[ 0, 0, 0],\n",
    "               [-1, 0, 0],\n",
    "               [ 0, 1, 0]])\n",
    "R2 = np.array([[ 0, 0,  0],\n",
    "               [ 0, 0, -1],\n",
    "               [ 0, 1,  0]])\n",
    "\n",
    "P1 = np.array([[-1, 0, 0],\n",
    "               [-1, 0, 0],\n",
    "               [-1, 1, 0]])\n",
    "P2 = np.array([[-1, -1, -1],\n",
    "               [ 0,  0,  0],\n",
    "               [ 1,  1,  1]])\n",
    "\n",
    "S1 = np.array([[-1, 0, 1],\n",
    "               [-2, 0, 2],\n",
    "               [-1, 0, 1]])\n",
    "S2 = np.array([[-1, -2, -1],\n",
    "               [ 0,  0,  0],\n",
    "               [ 1,  2,  1]])"
   ]
  },
  {
   "cell_type": "code",
   "execution_count": null,
   "metadata": {
    "ExecuteTime": {
     "end_time": "2024-01-03T01:01:09.349390Z",
     "start_time": "2024-01-03T01:01:06.881868Z"
    },
    "collapsed": false,
    "jupyter": {
     "outputs_hidden": false
    }
   },
   "outputs": [],
   "source": [
    "for kernel in [R1, R2, P1, P2, S1, S2]:\n",
    "    convolve_and_show_image(kw, kernel, normalization=lambda x: np.abs(x))\n",
    "    convolve_and_show_image(kw, kernel, normalization=lambda x: x + 128)"
   ]
  },
  {
   "cell_type": "markdown",
   "metadata": {
    "id": "56RoscNzuTVv"
   },
   "source": [
    "5. Na podstawie dwóch ortogonalnych masek np. Sobela można stworzyć tzw. filtr kombinowany - pierwiastek kwadratowy z sumy kwadratów gradientów:\n",
    "\\begin{equation}\n",
    "OW = \\sqrt{(O * S1)^2 + (O * S2)^2}\n",
    "\\end{equation}\n",
    "gdzie:  $OW$ - obraz wyjściowy, $O$ - obraz oryginalny (wejściowy), $S1,S2$ - maski Sobela, $*$ - operacja konwolucji.\n",
    "\n",
    "Zaimplementuj filtr kombinowany.\n",
    "\n",
    "Uwaga. Proszę zwrócić uwagę na konieczność zmiany formatu danych obrazu wejściowego - na typ znakiem\n",
    "\n"
   ]
  },
  {
   "cell_type": "code",
   "execution_count": null,
   "metadata": {
    "ExecuteTime": {
     "end_time": "2024-01-03T01:05:02.797228Z",
     "start_time": "2024-01-03T01:05:01.616692Z"
    },
    "id": "pobro8ZkuTVv"
   },
   "outputs": [],
   "source": [
    "result1 = np.abs(cv2.filter2D(kw, -1, S1))\n",
    "result2 = np.abs(cv2.filter2D(kw, -1, S2))\n",
    "\n",
    "result = np.sqrt(np.square(result1.astype(np.int32)) + np.square(result2.astype(np.int32)))\n",
    "\n",
    "show_image(result)"
   ]
  },
  {
   "cell_type": "markdown",
   "metadata": {
    "id": "7dsJBZyluTVw"
   },
   "source": [
    "6. Istnieje alternatywna wersja filtra kombinowanego, która zamiast pierwiastka z sumy kwadratów wykorzystuje sumę modułów (prostsze obliczenia). \n",
    "Zaimplementuj tę wersję. "
   ]
  },
  {
   "cell_type": "code",
   "execution_count": null,
   "metadata": {
    "ExecuteTime": {
     "end_time": "2024-01-03T01:05:45.906180Z",
     "start_time": "2024-01-03T01:05:44.690490Z"
    },
    "id": "fJMIOBGnuTVw",
    "scrolled": true
   },
   "outputs": [],
   "source": [
    "result = np.abs(result1.astype(np.int32)) + np.abs(result2.astype(np.int32))\n",
    "\n",
    "show_image(result)"
   ]
  },
  {
   "cell_type": "markdown",
   "metadata": {
    "id": "Q-3dRwiiuTVw"
   },
   "source": [
    "7. Wczytaj plik _jet.png_ (zamiast _kw.png_).\n",
    "Sprawdź działanie obu wariantów filtracji kombinowanej."
   ]
  },
  {
   "cell_type": "code",
   "execution_count": null,
   "metadata": {
    "ExecuteTime": {
     "end_time": "2024-01-03T01:06:32.291926Z",
     "start_time": "2024-01-03T01:06:32.007608Z"
    },
    "id": "TAm2toQRuTVw",
    "pycharm": {
     "name": "#%%\n"
    }
   },
   "outputs": [],
   "source": [
    "result1 = np.abs(cv2.filter2D(jet, -1, S1))\n",
    "result2 = np.abs(cv2.filter2D(jet, -1, S2))\n",
    "\n",
    "result = np.sqrt(np.square(result1.astype(np.int32)) + np.square(result2.astype(np.int32)))\n",
    "show_image(result)\n",
    "\n",
    "result = np.abs(result1.astype(np.int32)) + np.abs(result2.astype(np.int32))\n",
    "show_image(result)\n"
   ]
  },
  {
   "cell_type": "code",
   "execution_count": null,
   "metadata": {
    "collapsed": false,
    "jupyter": {
     "outputs_hidden": false
    }
   },
   "outputs": [],
   "source": []
  }
 ],
 "metadata": {
  "celltoolbar": "Raw Cell Format",
  "colab": {
   "collapsed_sections": [],
   "provenance": []
  },
  "kernelspec": {
   "display_name": "Python 3 (ipykernel)",
   "language": "python",
   "name": "python3"
  },
  "language_info": {
   "codemirror_mode": {
    "name": "ipython",
    "version": 3
   },
   "file_extension": ".py",
   "mimetype": "text/x-python",
   "name": "python",
   "nbconvert_exporter": "python",
   "pygments_lexer": "ipython3",
   "version": "3.11.6"
  }
 },
 "nbformat": 4,
 "nbformat_minor": 4
}
